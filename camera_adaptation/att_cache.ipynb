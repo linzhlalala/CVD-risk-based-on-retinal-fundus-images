{
 "cells": [
  {
   "cell_type": "code",
   "execution_count": null,
   "metadata": {},
   "outputs": [],
   "source": [
    "import math\n",
    "import os\n",
    "\n",
    "import torch\n",
    "import torch.nn as nn\n",
    "import pandas as pd\n",
    "import numpy as np\n",
    "\n",
    "from modules.vit_model import vit_mt\n",
    "\n",
    "modelid = 'condition'\n",
    "gpu = 0\n",
    "# create model\n",
    "model = vit_mt()\n",
    "torch.cuda.set_device(gpu)\n",
    "model = model.cuda(gpu)\n",
    "loc = 'cuda:{}'.format(gpu)\n",
    "checkpoint = torch.load(f'data/{modelid}.tar', map_location=loc)\n",
    "model.load_state_dict(checkpoint['state_dict'])\n",
    "del checkpoint"
   ]
  },
  {
   "cell_type": "code",
   "execution_count": null,
   "metadata": {},
   "outputs": [],
   "source": [
    "bs = 4\n",
    "\n",
    "import json\n",
    "import torchvision.transforms as transforms\n",
    "import cv2\n",
    "\n",
    "\n",
    "trans = transforms.Compose([            \n",
    "    transforms.ToTensor(),\n",
    "    transforms.Resize(384),\n",
    "    transforms.CenterCrop(384),\n",
    "    transforms.Normalize(mean=[0.5, 0.5, 0.5], std=[0.5, 0.5, 0.5]),\n",
    "    ])\n",
    "\n"
   ]
  },
  {
   "cell_type": "code",
   "execution_count": null,
   "metadata": {},
   "outputs": [],
   "source": [
    "finds = []\n",
    "start_dir = '../da_pairs'\n",
    "listdir = os.listdir(start_dir)\n",
    "list0 = []\n",
    "for entry in listdir:\n",
    "    name_folder = os.path.join(start_dir,entry)\n",
    "    photo_dir = os.listdir( name_folder )\n",
    "    list0.append({'name':entry, 'pnumbers':len(photo_dir),'photos':list(photo_dir)})\n"
   ]
  },
  {
   "cell_type": "code",
   "execution_count": null,
   "metadata": {},
   "outputs": [],
   "source": [
    "handlers = []\n",
    "saved_feature = []\n",
    "\n",
    "def features_hook(module, input, output):\n",
    "    x = torch.stack(tuple(output))\n",
    "    saved_feature.append(output)\n",
    "\n",
    "module = model.img_org.norm\n",
    "handlers.append(module.register_forward_hook(features_hook))"
   ]
  },
  {
   "cell_type": "code",
   "execution_count": null,
   "metadata": {},
   "outputs": [],
   "source": [
    "items = [os.path.join(start_dir,x['name'],y) for x in list0 for y in x['photos'] ]\n",
    "\n",
    "print(len(items))"
   ]
  },
  {
   "cell_type": "code",
   "execution_count": null,
   "metadata": {},
   "outputs": [],
   "source": [
    "total_batch = len(items)//bs + 1\n",
    "\n",
    "model.eval()\n",
    "\n",
    "if not os.path.exists(f'data/{modelid}'):\n",
    "     os.mkdir(f'data/{modelid}')\n",
    "            \n",
    "for batch in range(total_batch):\n",
    "    this_end = min((batch+1)* bs, len(items))\n",
    "    \n",
    "    paths = items[batch*bs:this_end]\n",
    "    images = []\n",
    "    for p in paths:\n",
    "        p1 = cv2.imread(p)\n",
    "        p1 = cv2.cvtColor(p1,cv2.COLOR_BGR2RGB)\n",
    "        p1 = trans(p1)\n",
    "        images.append(p1)\n",
    "    images = torch.stack(images).to(loc)\n",
    "    with torch.no_grad():\n",
    "        fcs,pred1 = model(images)\n",
    "\n",
    "    fcs = saved_feature[-1]\n",
    "    fcs = fcs.detach().cpu().numpy()\n",
    "\n",
    "    saved_feature = []\n",
    "\n",
    "    for i in range(len(paths)):\n",
    "        source = paths[i]\n",
    "        fc = fcs[i,:]\n",
    "        newfile = source.replace('.png','').replace('../da_pairs',f'data/{modelid}')\n",
    "        if not os.path.exists(os.path.dirname(newfile)):\n",
    "            os.mkdir(os.path.dirname(newfile))\n",
    "        np.save(newfile,fc)\n",
    "    print(batch,'of',total_batch)"
   ]
  }
 ],
 "metadata": {
  "interpreter": {
   "hash": "34d294caaf0d547b609be6e7464c0735bef0392470e343891384762cd2d72d72"
  },
  "kernelspec": {
   "display_name": "Python 3.8.11 64-bit ('eyetell_zlin': conda)",
   "name": "python3"
  },
  "language_info": {
   "codemirror_mode": {
    "name": "ipython",
    "version": 3
   },
   "file_extension": ".py",
   "mimetype": "text/x-python",
   "name": "python",
   "nbconvert_exporter": "python",
   "pygments_lexer": "ipython3",
   "version": "3.8.10"
  },
  "orig_nbformat": 4
 },
 "nbformat": 4,
 "nbformat_minor": 2
}
